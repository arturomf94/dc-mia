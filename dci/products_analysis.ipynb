{
 "cells": [
  {
   "cell_type": "code",
   "execution_count": 2,
   "metadata": {},
   "outputs": [],
   "source": [
    "import pandas as pd\n",
    "import numpy as np"
   ]
  },
  {
   "cell_type": "code",
   "execution_count": 5,
   "metadata": {},
   "outputs": [
    {
     "data": {
      "text/plain": [
       "(16470, 12)"
      ]
     },
     "execution_count": 5,
     "metadata": {},
     "output_type": "execute_result"
    }
   ],
   "source": [
    "productos = pd.read_pickle('productos_limpia')\n",
    "productos.shape"
   ]
  },
  {
   "cell_type": "code",
   "execution_count": 6,
   "metadata": {},
   "outputs": [
    {
     "data": {
      "text/html": [
       "<div>\n",
       "<style scoped>\n",
       "    .dataframe tbody tr th:only-of-type {\n",
       "        vertical-align: middle;\n",
       "    }\n",
       "\n",
       "    .dataframe tbody tr th {\n",
       "        vertical-align: top;\n",
       "    }\n",
       "\n",
       "    .dataframe thead th {\n",
       "        text-align: right;\n",
       "    }\n",
       "</style>\n",
       "<table border=\"1\" class=\"dataframe\">\n",
       "  <thead>\n",
       "    <tr style=\"text-align: right;\">\n",
       "      <th></th>\n",
       "      <th>PRODUCTO</th>\n",
       "      <th>CARGA</th>\n",
       "      <th>EXISTENCIA</th>\n",
       "      <th>DEVOLUCION</th>\n",
       "      <th>VENTA TOTAL</th>\n",
       "      <th>PRECIO * PRODUC</th>\n",
       "      <th>$</th>\n",
       "      <th>VENTA EN LT</th>\n",
       "      <th>RUTA</th>\n",
       "      <th>DIA</th>\n",
       "      <th>SEMANA</th>\n",
       "      <th>ANIO</th>\n",
       "    </tr>\n",
       "  </thead>\n",
       "  <tbody>\n",
       "    <tr>\n",
       "      <th>60</th>\n",
       "      <td>PRODUCTO10</td>\n",
       "      <td>NaN</td>\n",
       "      <td>NaN</td>\n",
       "      <td>0</td>\n",
       "      <td>0.0</td>\n",
       "      <td>7.5</td>\n",
       "      <td>0.0</td>\n",
       "      <td>0.0</td>\n",
       "      <td>RUTA: SAN MARCOS</td>\n",
       "      <td>LUNES</td>\n",
       "      <td>4 AGOSTO</td>\n",
       "      <td>2017</td>\n",
       "    </tr>\n",
       "    <tr>\n",
       "      <th>61</th>\n",
       "      <td>Queso Hebra</td>\n",
       "      <td>NaN</td>\n",
       "      <td>NaN</td>\n",
       "      <td>0</td>\n",
       "      <td>0.0</td>\n",
       "      <td>60</td>\n",
       "      <td>0.0</td>\n",
       "      <td>0.0</td>\n",
       "      <td>RUTA: SAN MARCOS</td>\n",
       "      <td>LUNES</td>\n",
       "      <td>4 AGOSTO</td>\n",
       "      <td>2017</td>\n",
       "    </tr>\n",
       "    <tr>\n",
       "      <th>62</th>\n",
       "      <td>Queso fresco</td>\n",
       "      <td>NaN</td>\n",
       "      <td>0</td>\n",
       "      <td>0</td>\n",
       "      <td>0.0</td>\n",
       "      <td>12</td>\n",
       "      <td>0.0</td>\n",
       "      <td>0.0</td>\n",
       "      <td>RUTA: SAN MARCOS</td>\n",
       "      <td>LUNES</td>\n",
       "      <td>4 AGOSTO</td>\n",
       "      <td>2017</td>\n",
       "    </tr>\n",
       "    <tr>\n",
       "      <th>63</th>\n",
       "      <td>Queso añejo</td>\n",
       "      <td>NaN</td>\n",
       "      <td>0</td>\n",
       "      <td>0</td>\n",
       "      <td>0.0</td>\n",
       "      <td>55</td>\n",
       "      <td>0.0</td>\n",
       "      <td>0.0</td>\n",
       "      <td>RUTA: SAN MARCOS</td>\n",
       "      <td>LUNES</td>\n",
       "      <td>4 AGOSTO</td>\n",
       "      <td>2017</td>\n",
       "    </tr>\n",
       "    <tr>\n",
       "      <th>64</th>\n",
       "      <td>Queso panela</td>\n",
       "      <td>NaN</td>\n",
       "      <td>0</td>\n",
       "      <td>0</td>\n",
       "      <td>0.0</td>\n",
       "      <td>50</td>\n",
       "      <td>0.0</td>\n",
       "      <td>0.0</td>\n",
       "      <td>RUTA: SAN MARCOS</td>\n",
       "      <td>LUNES</td>\n",
       "      <td>4 AGOSTO</td>\n",
       "      <td>2017</td>\n",
       "    </tr>\n",
       "  </tbody>\n",
       "</table>\n",
       "</div>"
      ],
      "text/plain": [
       "        PRODUCTO  CARGA EXISTENCIA DEVOLUCION  VENTA TOTAL PRECIO * PRODUC  \\\n",
       "60    PRODUCTO10    NaN        NaN          0          0.0             7.5   \n",
       "61   Queso Hebra    NaN        NaN          0          0.0              60   \n",
       "62  Queso fresco    NaN          0          0          0.0              12   \n",
       "63   Queso añejo    NaN          0          0          0.0              55   \n",
       "64  Queso panela    NaN          0          0          0.0              50   \n",
       "\n",
       "      $  VENTA EN LT              RUTA    DIA    SEMANA  ANIO  \n",
       "60  0.0          0.0  RUTA: SAN MARCOS  LUNES  4 AGOSTO  2017  \n",
       "61  0.0          0.0  RUTA: SAN MARCOS  LUNES  4 AGOSTO  2017  \n",
       "62  0.0          0.0  RUTA: SAN MARCOS  LUNES  4 AGOSTO  2017  \n",
       "63  0.0          0.0  RUTA: SAN MARCOS  LUNES  4 AGOSTO  2017  \n",
       "64  0.0          0.0  RUTA: SAN MARCOS  LUNES  4 AGOSTO  2017  "
      ]
     },
     "execution_count": 6,
     "metadata": {},
     "output_type": "execute_result"
    }
   ],
   "source": [
    "productos.head()"
   ]
  },
  {
   "cell_type": "code",
   "execution_count": 11,
   "metadata": {},
   "outputs": [
    {
     "name": "stdout",
     "output_type": "stream",
     "text": [
      "2012\n",
      "[u'RUTA: FERMIN', u'RUTA: JESUS', u'RUTA: TRADICION', u'RUTA: JUGUERAS', u'RUTA: SAN MARCOS', 'RUTA: IVAN']\n",
      "2013\n",
      "[u'RUTA: FERMIN', 'RUTA: IVAN', u'RUTA: TRADICION', u'RUTA: JUGUERAS', u'RUTA: SAN MARCOS']\n",
      "2014\n",
      "[u'RUTA: SAN MARCOS', u'RUTA: FERMIN']\n",
      "2015\n",
      "[u'RUTA: SAN MARCOS']\n",
      "2016\n",
      "[u'RUTA: SAN MARCOS']\n",
      "2017\n",
      "[u'RUTA: SAN MARCOS']\n",
      "2018\n",
      "[u'RUTA: SAN MARCOS']\n"
     ]
    }
   ],
   "source": [
    "# ¿Cuántas rutas de distribución diferentes identificaron cada año?\n",
    "anios = ['2012', '2013', '2014', '2015', '2016', '2017', '2018']\n",
    "for anio in anios:\n",
    "    print(anio)\n",
    "    rutas = []\n",
    "    for ruta in productos.loc[productos['ANIO'] == anio]['RUTA']:\n",
    "        if not ruta in rutas:\n",
    "            rutas.append(ruta)\n",
    "    print(rutas)"
   ]
  },
  {
   "cell_type": "code",
   "execution_count": 13,
   "metadata": {},
   "outputs": [
    {
     "data": {
      "text/plain": [
       "56839    RUTA: SAN MARCOS\n",
       "56840    RUTA: SAN MARCOS\n",
       "56841    RUTA: SAN MARCOS\n",
       "56842    RUTA: SAN MARCOS\n",
       "56843    RUTA: SAN MARCOS\n",
       "56844    RUTA: SAN MARCOS\n",
       "56846    RUTA: SAN MARCOS\n",
       "56847    RUTA: SAN MARCOS\n",
       "56848    RUTA: SAN MARCOS\n",
       "56849    RUTA: SAN MARCOS\n",
       "56850    RUTA: SAN MARCOS\n",
       "56899    RUTA: SAN MARCOS\n",
       "56900    RUTA: SAN MARCOS\n",
       "56901    RUTA: SAN MARCOS\n",
       "56902    RUTA: SAN MARCOS\n",
       "56903    RUTA: SAN MARCOS\n",
       "56904    RUTA: SAN MARCOS\n",
       "56906    RUTA: SAN MARCOS\n",
       "56907    RUTA: SAN MARCOS\n",
       "56908    RUTA: SAN MARCOS\n",
       "56909    RUTA: SAN MARCOS\n",
       "56910    RUTA: SAN MARCOS\n",
       "57055    RUTA: SAN MARCOS\n",
       "57056    RUTA: SAN MARCOS\n",
       "57057    RUTA: SAN MARCOS\n",
       "57058    RUTA: SAN MARCOS\n",
       "57059    RUTA: SAN MARCOS\n",
       "57060    RUTA: SAN MARCOS\n",
       "57062    RUTA: SAN MARCOS\n",
       "57063    RUTA: SAN MARCOS\n",
       "               ...       \n",
       "67642    RUTA: SAN MARCOS\n",
       "67643    RUTA: SAN MARCOS\n",
       "67644    RUTA: SAN MARCOS\n",
       "67646    RUTA: SAN MARCOS\n",
       "67647    RUTA: SAN MARCOS\n",
       "67648    RUTA: SAN MARCOS\n",
       "67649    RUTA: SAN MARCOS\n",
       "67650    RUTA: SAN MARCOS\n",
       "67879    RUTA: SAN MARCOS\n",
       "67880    RUTA: SAN MARCOS\n",
       "67881    RUTA: SAN MARCOS\n",
       "67882    RUTA: SAN MARCOS\n",
       "67883    RUTA: SAN MARCOS\n",
       "67884    RUTA: SAN MARCOS\n",
       "67886    RUTA: SAN MARCOS\n",
       "67887    RUTA: SAN MARCOS\n",
       "67888    RUTA: SAN MARCOS\n",
       "67889    RUTA: SAN MARCOS\n",
       "67890    RUTA: SAN MARCOS\n",
       "67927    RUTA: SAN MARCOS\n",
       "67928    RUTA: SAN MARCOS\n",
       "67929    RUTA: SAN MARCOS\n",
       "67930    RUTA: SAN MARCOS\n",
       "67931    RUTA: SAN MARCOS\n",
       "67932    RUTA: SAN MARCOS\n",
       "67934    RUTA: SAN MARCOS\n",
       "67935    RUTA: SAN MARCOS\n",
       "67936    RUTA: SAN MARCOS\n",
       "67937    RUTA: SAN MARCOS\n",
       "67938    RUTA: SAN MARCOS\n",
       "Name: RUTA, Length: 1001, dtype: object"
      ]
     },
     "execution_count": 13,
     "metadata": {},
     "output_type": "execute_result"
    }
   ],
   "source": [
    "productos.loc[productos['ANIO'] == '2018']['RUTA']"
   ]
  }
 ],
 "metadata": {
  "kernelspec": {
   "display_name": "dci",
   "language": "python",
   "name": "dci"
  },
  "language_info": {
   "codemirror_mode": {
    "name": "ipython",
    "version": 2
   },
   "file_extension": ".py",
   "mimetype": "text/x-python",
   "name": "python",
   "nbconvert_exporter": "python",
   "pygments_lexer": "ipython2",
   "version": "2.7.13"
  }
 },
 "nbformat": 4,
 "nbformat_minor": 2
}
