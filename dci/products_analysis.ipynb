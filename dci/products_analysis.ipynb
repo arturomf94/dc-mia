{
 "cells": [
  {
   "cell_type": "code",
   "execution_count": 85,
   "metadata": {},
   "outputs": [],
   "source": [
    "import pandas as pd\n",
    "import numpy as np\n",
    "import matplotlib.pyplot as plt"
   ]
  },
  {
   "cell_type": "code",
   "execution_count": 86,
   "metadata": {},
   "outputs": [],
   "source": [
    "fig_size = plt.rcParams[\"figure.figsize\"]\n",
    "plt.rcParams[\"figure.figsize\"] = [15,8]"
   ]
  },
  {
   "cell_type": "code",
   "execution_count": 87,
   "metadata": {},
   "outputs": [
    {
     "data": {
      "text/plain": [
       "(41047, 12)"
      ]
     },
     "execution_count": 87,
     "metadata": {},
     "output_type": "execute_result"
    }
   ],
   "source": [
    "productos = pd.read_pickle('productos_limpia')\n",
    "productos.shape"
   ]
  },
  {
   "cell_type": "code",
   "execution_count": 88,
   "metadata": {},
   "outputs": [
    {
     "data": {
      "text/html": [
       "<div>\n",
       "<style scoped>\n",
       "    .dataframe tbody tr th:only-of-type {\n",
       "        vertical-align: middle;\n",
       "    }\n",
       "\n",
       "    .dataframe tbody tr th {\n",
       "        vertical-align: top;\n",
       "    }\n",
       "\n",
       "    .dataframe thead th {\n",
       "        text-align: right;\n",
       "    }\n",
       "</style>\n",
       "<table border=\"1\" class=\"dataframe\">\n",
       "  <thead>\n",
       "    <tr style=\"text-align: right;\">\n",
       "      <th></th>\n",
       "      <th>PRODUCTO</th>\n",
       "      <th>CARGA</th>\n",
       "      <th>EXISTENCIA</th>\n",
       "      <th>DEVOLUCION</th>\n",
       "      <th>VENTA TOTAL</th>\n",
       "      <th>PRECIO * PRODUC</th>\n",
       "      <th>$</th>\n",
       "      <th>VENTA EN LT</th>\n",
       "      <th>RUTA</th>\n",
       "      <th>DIA</th>\n",
       "      <th>SEMANA</th>\n",
       "      <th>ANIO</th>\n",
       "    </tr>\n",
       "  </thead>\n",
       "  <tbody>\n",
       "    <tr>\n",
       "      <th>0</th>\n",
       "      <td>PRODUCTO10</td>\n",
       "      <td>NaN</td>\n",
       "      <td>NaN</td>\n",
       "      <td>0</td>\n",
       "      <td>0.0</td>\n",
       "      <td>7.5</td>\n",
       "      <td>0.0</td>\n",
       "      <td>0.0</td>\n",
       "      <td>RUTA: SAN MARCOS</td>\n",
       "      <td>LUNES</td>\n",
       "      <td>4 AGOSTO</td>\n",
       "      <td>2017</td>\n",
       "    </tr>\n",
       "    <tr>\n",
       "      <th>1</th>\n",
       "      <td>Queso Hebra</td>\n",
       "      <td>NaN</td>\n",
       "      <td>NaN</td>\n",
       "      <td>0</td>\n",
       "      <td>0.0</td>\n",
       "      <td>60</td>\n",
       "      <td>0.0</td>\n",
       "      <td>0.0</td>\n",
       "      <td>RUTA: SAN MARCOS</td>\n",
       "      <td>LUNES</td>\n",
       "      <td>4 AGOSTO</td>\n",
       "      <td>2017</td>\n",
       "    </tr>\n",
       "    <tr>\n",
       "      <th>2</th>\n",
       "      <td>Queso fresco</td>\n",
       "      <td>NaN</td>\n",
       "      <td>0</td>\n",
       "      <td>0</td>\n",
       "      <td>0.0</td>\n",
       "      <td>12</td>\n",
       "      <td>0.0</td>\n",
       "      <td>0.0</td>\n",
       "      <td>RUTA: SAN MARCOS</td>\n",
       "      <td>LUNES</td>\n",
       "      <td>4 AGOSTO</td>\n",
       "      <td>2017</td>\n",
       "    </tr>\n",
       "    <tr>\n",
       "      <th>3</th>\n",
       "      <td>Queso añejo</td>\n",
       "      <td>NaN</td>\n",
       "      <td>0</td>\n",
       "      <td>0</td>\n",
       "      <td>0.0</td>\n",
       "      <td>55</td>\n",
       "      <td>0.0</td>\n",
       "      <td>0.0</td>\n",
       "      <td>RUTA: SAN MARCOS</td>\n",
       "      <td>LUNES</td>\n",
       "      <td>4 AGOSTO</td>\n",
       "      <td>2017</td>\n",
       "    </tr>\n",
       "    <tr>\n",
       "      <th>4</th>\n",
       "      <td>Queso panela</td>\n",
       "      <td>NaN</td>\n",
       "      <td>0</td>\n",
       "      <td>0</td>\n",
       "      <td>0.0</td>\n",
       "      <td>50</td>\n",
       "      <td>0.0</td>\n",
       "      <td>0.0</td>\n",
       "      <td>RUTA: SAN MARCOS</td>\n",
       "      <td>LUNES</td>\n",
       "      <td>4 AGOSTO</td>\n",
       "      <td>2017</td>\n",
       "    </tr>\n",
       "  </tbody>\n",
       "</table>\n",
       "</div>"
      ],
      "text/plain": [
       "       PRODUCTO CARGA EXISTENCIA DEVOLUCION  VENTA TOTAL PRECIO * PRODUC    $  \\\n",
       "0    PRODUCTO10   NaN        NaN          0          0.0             7.5  0.0   \n",
       "1   Queso Hebra   NaN        NaN          0          0.0              60  0.0   \n",
       "2  Queso fresco   NaN          0          0          0.0              12  0.0   \n",
       "3   Queso añejo   NaN          0          0          0.0              55  0.0   \n",
       "4  Queso panela   NaN          0          0          0.0              50  0.0   \n",
       "\n",
       "   VENTA EN LT              RUTA    DIA    SEMANA  ANIO  \n",
       "0          0.0  RUTA: SAN MARCOS  LUNES  4 AGOSTO  2017  \n",
       "1          0.0  RUTA: SAN MARCOS  LUNES  4 AGOSTO  2017  \n",
       "2          0.0  RUTA: SAN MARCOS  LUNES  4 AGOSTO  2017  \n",
       "3          0.0  RUTA: SAN MARCOS  LUNES  4 AGOSTO  2017  \n",
       "4          0.0  RUTA: SAN MARCOS  LUNES  4 AGOSTO  2017  "
      ]
     },
     "execution_count": 88,
     "metadata": {},
     "output_type": "execute_result"
    }
   ],
   "source": [
    "productos.head()"
   ]
  },
  {
   "cell_type": "code",
   "execution_count": 89,
   "metadata": {},
   "outputs": [
    {
     "name": "stdout",
     "output_type": "stream",
     "text": [
      "2012\n",
      "[u'RUTA: FERMIN', u'RUTA: JESUS', u'RUTA: TRADICION', u'RUTA: JUGUERAS', u'RUTA: SAN MARCOS', 'RUTA: IVAN']\n",
      "2013\n",
      "[u'RUTA: FERMIN', u'RUTA: SAN MARCOS', u'RUTA: JUGUERAS', 'RUTA: IVAN', u'RUTA: TRADICION']\n",
      "2014\n",
      "[u'RUTA: SAN MARCOS', 'RUTA: IVAN', u'RUTA: JUGUERAS', u'RUTA: FERMIN']\n",
      "2015\n",
      "[u'RUTA: SAN MARCOS', u'RUTA: JUGUERAS', u'RUTA: FERMIN']\n",
      "2016\n",
      "[u'RUTA: SAN MARCOS', u'RUTA: JUGUERAS']\n",
      "2017\n",
      "[u'RUTA: SAN MARCOS', u'RUTA: JUGUERAS', u'RUTA: FERMIN', 'RUTA: MARTIN', u'RUTA: ERICK']\n",
      "2018\n",
      "[u'RUTA: SAN MARCOS', u'RUTA: FERMIN', 'RUTA: MARTIN', u'RUTA: JUGUERAS', u'RUTA: ERICK']\n"
     ]
    }
   ],
   "source": [
    "# ¿Cuántas rutas de distribución diferentes identificaron cada año?\n",
    "anios = ['2012', '2013', '2014', '2015', '2016', '2017', '2018']\n",
    "for anio in anios:\n",
    "    print(anio)\n",
    "    rutas = []\n",
    "    for ruta in productos.loc[productos['ANIO'] == anio]['RUTA']:\n",
    "        if not ruta in rutas:\n",
    "            rutas.append(ruta)\n",
    "    print(rutas)"
   ]
  },
  {
   "cell_type": "code",
   "execution_count": 90,
   "metadata": {},
   "outputs": [
    {
     "name": "stdout",
     "output_type": "stream",
     "text": [
      "RUTA: SAN MARCOS\n",
      "['LUNES', 'MARTES', 'VIERNES', 'DOMINGO', 'MIERCOLES', 'JUEVES', 'SABADO']\n",
      "RUTA: FERMIN\n",
      "['LUNES', 'MARTES', 'MIERCOLES', 'JUEVES', 'VIERNES', 'SABADO']\n",
      "RUTA: JESUS\n",
      "['LUNES', 'MARTES', 'MIERCOLES', 'JUEVES', 'VIERNES']\n",
      "RUTA: TRADICION\n",
      "['LUNES', 'MARTES', 'MIERCOLES', 'JUEVES', 'VIERNES', 'SABADO']\n",
      "RUTA: JUGUERAS\n",
      "['LUNES', 'MARTES', 'MIERCOLES', 'JUEVES', 'VIERNES', 'SABADO']\n",
      "RUTA: IVAN\n",
      "['MARTES', 'LUNES', 'JUEVES', 'VIERNES', 'MIERCOLES', 'SABADO']\n",
      "RUTA: MARTIN\n",
      "['SABADO', 'LUNES', 'MARTES', 'MIERCOLES', 'JUEVES', 'VIERNES']\n",
      "RUTA: ERICK\n",
      "['LUNES']\n"
     ]
    }
   ],
   "source": [
    "# ¿Qué días de la semana operan dichas rutas?\n",
    "rutas = []\n",
    "for ruta in productos['RUTA']:\n",
    "    if not ruta in rutas:\n",
    "        rutas.append(ruta)\n",
    "for ruta in rutas:\n",
    "    print(ruta)\n",
    "    dias = []\n",
    "    for dia in productos.loc[productos['RUTA'] == ruta]['DIA']:\n",
    "        if not dia in dias and not pd.isnull(dia):\n",
    "            dias.append(dia)\n",
    "    print(dias)"
   ]
  },
  {
   "cell_type": "code",
   "execution_count": 91,
   "metadata": {},
   "outputs": [
    {
     "data": {
      "image/png": "[encoded data removed]",
      "text/plain": [
       "<Figure size 1080x576 with 1 Axes>"
      ]
     },
     "metadata": {
      "needs_background": "light"
     },
     "output_type": "display_data"
    }
   ],
   "source": [
    "# ¿Qué rutas presentan el mayor número de devoluciones en los siete años?\n",
    "rutas = []\n",
    "for ruta in productos['RUTA']:\n",
    "    if not ruta in rutas:\n",
    "        rutas.append(ruta)\n",
    "devoluciones = []\n",
    "for ruta in rutas:\n",
    "    devoluciones_count = pd.to_numeric(productos.loc[productos['RUTA'] == ruta]['DEVOLUCION'], errors = 'coerce').sum()\n",
    "    devoluciones.append(devoluciones_count)\n",
    "\n",
    "plt.bar(rutas, devoluciones)\n",
    "plt.title('Devoluciones por Ruta en Todos los Anios')\n",
    "plt.ylabel('Devoluciones')\n",
    "plt.show()"
   ]
  },
  {
   "cell_type": "code",
   "execution_count": 92,
   "metadata": {},
   "outputs": [
    {
     "data": {
      "image/png": "[encoded data removed]",
      "text/plain": [
       "<Figure size 1080x576 with 1 Axes>"
      ]
     },
     "metadata": {
      "needs_background": "light"
     },
     "output_type": "display_data"
    }
   ],
   "source": [
    "# ¿Con qué frecuencia ocurren estas devoluciones y en qué días?\n",
    "dias = []\n",
    "for dia in productos['DIA']:\n",
    "    if not dia in dias:\n",
    "        dias.append(dia)\n",
    "devoluciones = []\n",
    "for dia in dias:\n",
    "    devoluciones_count = pd.to_numeric(productos.loc[productos['DIA'] == dia]['DEVOLUCION'], errors = 'coerce').sum()\n",
    "    devoluciones.append(devoluciones_count)\n",
    "plt.bar(dias, devoluciones)\n",
    "plt.title('Devoluciones por Dia en Todos los Anios')\n",
    "plt.ylabel('Devoluciones')\n",
    "plt.show()"
   ]
  },
  {
   "cell_type": "code",
   "execution_count": 93,
   "metadata": {},
   "outputs": [
    {
     "data": {
      "image/png": "[encoded data removed]",
      "text/plain": [
       "<Figure size 1080x576 with 1 Axes>"
      ]
     },
     "metadata": {
      "needs_background": "light"
     },
     "output_type": "display_data"
    }
   ],
   "source": [
    "# Semanas\n",
    "semanas = []\n",
    "semanas_filter_aux = productos.loc[productos['SEMANA'].isnull() == False]\n",
    "for semana in semanas_filter_aux['SEMANA']:\n",
    "    if not semana in semanas:\n",
    "        semanas.append(semana)\n",
    "devoluciones = []\n",
    "for semana in semanas:\n",
    "    devoluciones_count = pd.to_numeric(semanas_filter_aux.loc[semanas_filter_aux['SEMANA'] == semana]['DEVOLUCION'], errors = 'coerce').sum()\n",
    "    devoluciones.append(devoluciones_count)\n",
    "plt.bar(semanas, devoluciones)\n",
    "plt.xticks(rotation=90)\n",
    "plt.title('Devoluciones por Semana en Todos los Anios')\n",
    "plt.ylabel('Devoluciones')\n",
    "plt.show()"
   ]
  },
  {
   "cell_type": "code",
   "execution_count": 94,
   "metadata": {},
   "outputs": [
    {
     "name": "stdout",
     "output_type": "stream",
     "text": [
      "2018\n",
      "[u'RUTA: SAN MARCOS', u'RUTA: FERMIN', 'RUTA: MARTIN', u'RUTA: JUGUERAS', u'RUTA: ERICK']\n",
      "5 rutas diferentes en 2018\n"
     ]
    }
   ],
   "source": [
    "# ¿Cuántas rutas diferentes se realizan durante el año 2018?\n",
    "print('2018')\n",
    "rutas = []\n",
    "for ruta in productos.loc[productos['ANIO'] == '2018']['RUTA']:\n",
    "    if not ruta in rutas:\n",
    "        rutas.append(ruta)\n",
    "print(rutas)\n",
    "print(str(len(rutas)) + ' rutas diferentes en 2018')"
   ]
  },
  {
   "cell_type": "code",
   "execution_count": 97,
   "metadata": {},
   "outputs": [
    {
     "name": "stdout",
     "output_type": "stream",
     "text": [
      "2018\n",
      "[u'PRODUCTO10', u'Queso Hebra', u'Queso fresco', u'Queso a\\xf1ejo', u'Queso panela', u'PRODUCTO4', u'PRODUCTO5', u'PRODUCTO1', u'PRODUCTO7', u'PRODUCTO3', u'PRODUCTO8', u'PRODUCTO2', u'PRODUCTO9']\n",
      "13 productos diferentes en 2018\n"
     ]
    }
   ],
   "source": [
    "# ¿Cuantos PRODUCTOS distintos se han distribuido durante 2018?\n",
    "print('2018')\n",
    "productos_name = []\n",
    "for producto in productos.loc[productos['ANIO'] == '2018']['PRODUCTO']:\n",
    "    if not producto in productos_name:\n",
    "        productos_name.append(producto)\n",
    "print(productos_name)\n",
    "print(str(len(productos_name)) + ' productos diferentes en 2018')"
   ]
  },
  {
   "cell_type": "code",
   "execution_count": null,
   "metadata": {},
   "outputs": [],
   "source": [
    "# ¿Cuál de los PRODUCTOS es el que más se vende durante 2018?\n"
   ]
  }
 ],
 "metadata": {
  "kernelspec": {
   "display_name": "dci",
   "language": "python",
   "name": "dci"
  },
  "language_info": {
   "codemirror_mode": {
    "name": "ipython",
    "version": 2
   },
   "file_extension": ".py",
   "mimetype": "text/x-python",
   "name": "python",
   "nbconvert_exporter": "python",
   "pygments_lexer": "ipython2",
   "version": "2.7.13"
  }
 },
 "nbformat": 4,
 "nbformat_minor": 2
}
