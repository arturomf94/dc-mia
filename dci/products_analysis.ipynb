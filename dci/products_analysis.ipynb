{
 "cells": [
  {
   "cell_type": "code",
   "execution_count": 19,
   "metadata": {},
   "outputs": [],
   "source": [
    "import pandas as pd\n",
    "import numpy as np"
   ]
  },
  {
   "cell_type": "code",
   "execution_count": 20,
   "metadata": {},
   "outputs": [
    {
     "data": {
      "text/plain": [
       "(48131, 12)"
      ]
     },
     "execution_count": 20,
     "metadata": {},
     "output_type": "execute_result"
    }
   ],
   "source": [
    "productos = pd.read_pickle('productos_limpia')\n",
    "productos.shape"
   ]
  },
  {
   "cell_type": "code",
   "execution_count": 21,
   "metadata": {},
   "outputs": [
    {
     "data": {
      "text/html": [
       "<div>\n",
       "<style scoped>\n",
       "    .dataframe tbody tr th:only-of-type {\n",
       "        vertical-align: middle;\n",
       "    }\n",
       "\n",
       "    .dataframe tbody tr th {\n",
       "        vertical-align: top;\n",
       "    }\n",
       "\n",
       "    .dataframe thead th {\n",
       "        text-align: right;\n",
       "    }\n",
       "</style>\n",
       "<table border=\"1\" class=\"dataframe\">\n",
       "  <thead>\n",
       "    <tr style=\"text-align: right;\">\n",
       "      <th></th>\n",
       "      <th>PRODUCTO</th>\n",
       "      <th>CARGA</th>\n",
       "      <th>EXISTENCIA</th>\n",
       "      <th>DEVOLUCION</th>\n",
       "      <th>VENTA TOTAL</th>\n",
       "      <th>PRECIO * PRODUC</th>\n",
       "      <th>$</th>\n",
       "      <th>VENTA EN LT</th>\n",
       "      <th>RUTA</th>\n",
       "      <th>DIA</th>\n",
       "      <th>SEMANA</th>\n",
       "      <th>ANIO</th>\n",
       "    </tr>\n",
       "  </thead>\n",
       "  <tbody>\n",
       "    <tr>\n",
       "      <th>0</th>\n",
       "      <td>PRODUCTO10</td>\n",
       "      <td>NaN</td>\n",
       "      <td>NaN</td>\n",
       "      <td>0</td>\n",
       "      <td>0</td>\n",
       "      <td>7.5</td>\n",
       "      <td>0</td>\n",
       "      <td>0</td>\n",
       "      <td>RUTA: SAN MARCOS</td>\n",
       "      <td>LUNES</td>\n",
       "      <td>4 AGOSTO</td>\n",
       "      <td>2017</td>\n",
       "    </tr>\n",
       "    <tr>\n",
       "      <th>1</th>\n",
       "      <td>Queso Hebra</td>\n",
       "      <td>NaN</td>\n",
       "      <td>NaN</td>\n",
       "      <td>0</td>\n",
       "      <td>0</td>\n",
       "      <td>60</td>\n",
       "      <td>0</td>\n",
       "      <td>0</td>\n",
       "      <td>RUTA: SAN MARCOS</td>\n",
       "      <td>LUNES</td>\n",
       "      <td>4 AGOSTO</td>\n",
       "      <td>2017</td>\n",
       "    </tr>\n",
       "    <tr>\n",
       "      <th>2</th>\n",
       "      <td>Queso fresco</td>\n",
       "      <td>NaN</td>\n",
       "      <td>0</td>\n",
       "      <td>0</td>\n",
       "      <td>0</td>\n",
       "      <td>12</td>\n",
       "      <td>0</td>\n",
       "      <td>0</td>\n",
       "      <td>RUTA: SAN MARCOS</td>\n",
       "      <td>LUNES</td>\n",
       "      <td>4 AGOSTO</td>\n",
       "      <td>2017</td>\n",
       "    </tr>\n",
       "    <tr>\n",
       "      <th>3</th>\n",
       "      <td>Queso añejo</td>\n",
       "      <td>NaN</td>\n",
       "      <td>0</td>\n",
       "      <td>0</td>\n",
       "      <td>0</td>\n",
       "      <td>55</td>\n",
       "      <td>0</td>\n",
       "      <td>0</td>\n",
       "      <td>RUTA: SAN MARCOS</td>\n",
       "      <td>LUNES</td>\n",
       "      <td>4 AGOSTO</td>\n",
       "      <td>2017</td>\n",
       "    </tr>\n",
       "    <tr>\n",
       "      <th>4</th>\n",
       "      <td>Queso panela</td>\n",
       "      <td>NaN</td>\n",
       "      <td>0</td>\n",
       "      <td>0</td>\n",
       "      <td>0</td>\n",
       "      <td>50</td>\n",
       "      <td>0</td>\n",
       "      <td>0</td>\n",
       "      <td>RUTA: SAN MARCOS</td>\n",
       "      <td>LUNES</td>\n",
       "      <td>4 AGOSTO</td>\n",
       "      <td>2017</td>\n",
       "    </tr>\n",
       "  </tbody>\n",
       "</table>\n",
       "</div>"
      ],
      "text/plain": [
       "       PRODUCTO CARGA EXISTENCIA DEVOLUCION VENTA TOTAL PRECIO * PRODUC  $  \\\n",
       "0    PRODUCTO10   NaN        NaN          0           0             7.5  0   \n",
       "1   Queso Hebra   NaN        NaN          0           0              60  0   \n",
       "2  Queso fresco   NaN          0          0           0              12  0   \n",
       "3   Queso añejo   NaN          0          0           0              55  0   \n",
       "4  Queso panela   NaN          0          0           0              50  0   \n",
       "\n",
       "  VENTA EN LT              RUTA    DIA    SEMANA  ANIO  \n",
       "0           0  RUTA: SAN MARCOS  LUNES  4 AGOSTO  2017  \n",
       "1           0  RUTA: SAN MARCOS  LUNES  4 AGOSTO  2017  \n",
       "2           0  RUTA: SAN MARCOS  LUNES  4 AGOSTO  2017  \n",
       "3           0  RUTA: SAN MARCOS  LUNES  4 AGOSTO  2017  \n",
       "4           0  RUTA: SAN MARCOS  LUNES  4 AGOSTO  2017  "
      ]
     },
     "execution_count": 21,
     "metadata": {},
     "output_type": "execute_result"
    }
   ],
   "source": [
    "productos.head()"
   ]
  },
  {
   "cell_type": "code",
   "execution_count": 22,
   "metadata": {},
   "outputs": [
    {
     "name": "stdout",
     "output_type": "stream",
     "text": [
      "2012\n",
      "[u'RUTA: FERMIN', u'RUTA: JESUS', u'RUTA: TRADICION', u'RUTA: JUGUERAS', u'RUTA: SAN MARCOS', 'RUTA: IVAN']\n",
      "2013\n",
      "[u'RUTA: FERMIN', 'RUTA: IVAN', u'RUTA: TRADICION', u'RUTA: JUGUERAS', u'RUTA: SAN MARCOS']\n",
      "2014\n",
      "[u'RUTA: SAN MARCOS', u'RUTA: FERMIN', 'RUTA: IVAN', u'RUTA: JUGUERAS']\n",
      "2015\n",
      "[u'RUTA: SAN MARCOS', u'RUTA: FERMIN', u'RUTA: JUGUERAS']\n",
      "2016\n",
      "[u'RUTA: SAN MARCOS', u'RUTA: JUGUERAS']\n",
      "2017\n",
      "[u'RUTA: SAN MARCOS', u'RUTA: FERMIN', u'RUTA: JUGUERAS', 'RUTA: MARTIN', u'RUTA: ERICK']\n",
      "2018\n",
      "[u'RUTA: SAN MARCOS', u'RUTA: FERMIN', 'RUTA: MARTIN', u'RUTA: JUGUERAS', u'RUTA: ERICK']\n"
     ]
    }
   ],
   "source": [
    "# ¿Cuántas rutas de distribución diferentes identificaron cada año?\n",
    "anios = ['2012', '2013', '2014', '2015', '2016', '2017', '2018']\n",
    "for anio in anios:\n",
    "    print(anio)\n",
    "    rutas = []\n",
    "    for ruta in productos.loc[productos['ANIO'] == anio]['RUTA']:\n",
    "        if not ruta in rutas:\n",
    "            rutas.append(ruta)\n",
    "    print(rutas)"
   ]
  },
  {
   "cell_type": "code",
   "execution_count": 29,
   "metadata": {},
   "outputs": [
    {
     "name": "stdout",
     "output_type": "stream",
     "text": [
      "RUTA: SAN MARCOS\n",
      "['LUNES', 'MARTES', 'VIERNES', '2 ENERO', 'DOMINGO', 'MIERCOLES', 'JUEVES', 'SABADO']\n",
      "RUTA: FERMIN\n",
      "['2 ENERO', 'LUNES', 'MARTES', 'MIERCOLES', 'JUEVES', 'VIERNES', 'SABADO']\n",
      "RUTA: JESUS\n",
      "['2 ENERO', 'LUNES', 'MARTES', 'MIERCOLES', 'JUEVES', 'VIERNES']\n",
      "RUTA: TRADICION\n",
      "['2 ENERO', 'LUNES', 'MARTES', 'MIERCOLES', 'JUEVES', 'VIERNES', 'SABADO']\n",
      "RUTA: JUGUERAS\n",
      "['2 ENERO', 'LUNES', 'MARTES', 'MIERCOLES', 'JUEVES', 'VIERNES', 'SABADO']\n",
      "RUTA: IVAN\n",
      "['2 ENERO', 'MARTES', 'LUNES', 'JUEVES', 'VIERNES', 'MIERCOLES', 'SABADO']\n",
      "RUTA: MARTIN\n",
      "['SABADO', 'LUNES', 'MARTES', 'MIERCOLES', 'JUEVES', 'VIERNES']\n",
      "RUTA: ERICK\n",
      "['LUNES']\n"
     ]
    }
   ],
   "source": [
    "# ¿Qué días de la semana operan dichas rutas?\n",
    "rutas = []\n",
    "for ruta in productos['RUTA']:\n",
    "    if not ruta in rutas:\n",
    "        rutas.append(ruta)\n",
    "for ruta in rutas:\n",
    "    print(ruta)\n",
    "    dias = []\n",
    "    for dia in productos.loc[productos['RUTA'] == ruta]['DIA']:\n",
    "        if not dia in dias and not pd.isnull(dia):\n",
    "            dias.append(dia)\n",
    "    print(dias)"
   ]
  }
 ],
 "metadata": {
  "kernelspec": {
   "display_name": "dci",
   "language": "python",
   "name": "dci"
  },
  "language_info": {
   "codemirror_mode": {
    "name": "ipython",
    "version": 2
   },
   "file_extension": ".py",
   "mimetype": "text/x-python",
   "name": "python",
   "nbconvert_exporter": "python",
   "pygments_lexer": "ipython2",
   "version": "2.7.13"
  }
 },
 "nbformat": 4,
 "nbformat_minor": 2
}
