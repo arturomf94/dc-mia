{
 "cells": [
  {
   "cell_type": "code",
   "execution_count": null,
   "metadata": {},
   "outputs": [],
   "source": []
  },
  {
   "cell_type": "code",
   "execution_count": null,
   "metadata": {},
   "outputs": [],
   "source": [
    "#Comparar el total de materia prima que “entra” al inicio de cada año, contra la que “sale”\n",
    "#en forma de producto vendido por semana para todo el año (en el periodo de datos\n",
    "#disponibles)"
   ]
  }
 ],
 "metadata": {
  "kernelspec": {
   "display_name": "dci",
   "language": "python",
   "name": "dci"
  },
  "language_info": {
   "codemirror_mode": {
    "name": "ipython",
    "version": 2
   },
   "file_extension": ".py",
   "mimetype": "text/x-python",
   "name": "python",
   "nbconvert_exporter": "python",
   "pygments_lexer": "ipython2",
   "version": "2.7.13"
  }
 },
 "nbformat": 4,
 "nbformat_minor": 2
}
