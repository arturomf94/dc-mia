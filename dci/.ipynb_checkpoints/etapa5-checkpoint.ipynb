{
 "cells": [
  {
   "cell_type": "code",
   "execution_count": 134,
   "metadata": {},
   "outputs": [],
   "source": [
    "from __future__ import division\n",
    "import pandas as pd\n",
    "import numpy as np\n",
    "import sys\n",
    "import glob\n",
    "import os.path\n",
    "import re\n",
    "import matplotlib.pyplot as plt"
   ]
  },
  {
   "cell_type": "code",
   "execution_count": 135,
   "metadata": {},
   "outputs": [],
   "source": [
    "fig_size = plt.rcParams[\"figure.figsize\"]\n",
    "plt.rcParams[\"figure.figsize\"] = [15,8]"
   ]
  },
  {
   "cell_type": "code",
   "execution_count": 136,
   "metadata": {},
   "outputs": [],
   "source": [
    "productos = pd.read_pickle('productos_limpia')\n",
    "materia = pd.read_pickle('materia_agregada')\n",
    "productos = productos.loc[productos['ANIO'] == '2018']"
   ]
  },
  {
   "cell_type": "code",
   "execution_count": 137,
   "metadata": {},
   "outputs": [
    {
     "data": {
      "text/html": [
       "<div>\n",
       "<style scoped>\n",
       "    .dataframe tbody tr th:only-of-type {\n",
       "        vertical-align: middle;\n",
       "    }\n",
       "\n",
       "    .dataframe tbody tr th {\n",
       "        vertical-align: top;\n",
       "    }\n",
       "\n",
       "    .dataframe thead th {\n",
       "        text-align: right;\n",
       "    }\n",
       "</style>\n",
       "<table border=\"1\" class=\"dataframe\">\n",
       "  <thead>\n",
       "    <tr style=\"text-align: right;\">\n",
       "      <th></th>\n",
       "      <th>PRODUCTO</th>\n",
       "      <th>CARGA</th>\n",
       "      <th>EXISTENCIA</th>\n",
       "      <th>DEVOLUCION</th>\n",
       "      <th>VENTA TOTAL</th>\n",
       "      <th>PRECIO * PRODUC</th>\n",
       "      <th>$</th>\n",
       "      <th>VENTA EN LT</th>\n",
       "      <th>RUTA</th>\n",
       "      <th>DIA</th>\n",
       "      <th>SEMANA</th>\n",
       "      <th>ANIO</th>\n",
       "    </tr>\n",
       "  </thead>\n",
       "  <tbody>\n",
       "    <tr>\n",
       "      <th>12029</th>\n",
       "      <td>PRODUCTO10</td>\n",
       "      <td>NaN</td>\n",
       "      <td>NaN</td>\n",
       "      <td>0</td>\n",
       "      <td>0.0</td>\n",
       "      <td>7.5</td>\n",
       "      <td>0.0</td>\n",
       "      <td>0.0</td>\n",
       "      <td>RUTA: SAN MARCOS</td>\n",
       "      <td>LUNES</td>\n",
       "      <td>4 AGOSTO</td>\n",
       "      <td>2018</td>\n",
       "    </tr>\n",
       "    <tr>\n",
       "      <th>12030</th>\n",
       "      <td>Queso Hebra</td>\n",
       "      <td>NaN</td>\n",
       "      <td>NaN</td>\n",
       "      <td>0</td>\n",
       "      <td>0.0</td>\n",
       "      <td>60</td>\n",
       "      <td>0.0</td>\n",
       "      <td>0.0</td>\n",
       "      <td>RUTA: SAN MARCOS</td>\n",
       "      <td>LUNES</td>\n",
       "      <td>4 AGOSTO</td>\n",
       "      <td>2018</td>\n",
       "    </tr>\n",
       "    <tr>\n",
       "      <th>12031</th>\n",
       "      <td>Queso fresco</td>\n",
       "      <td>NaN</td>\n",
       "      <td>0</td>\n",
       "      <td>0</td>\n",
       "      <td>0.0</td>\n",
       "      <td>12</td>\n",
       "      <td>0.0</td>\n",
       "      <td>0.0</td>\n",
       "      <td>RUTA: SAN MARCOS</td>\n",
       "      <td>LUNES</td>\n",
       "      <td>4 AGOSTO</td>\n",
       "      <td>2018</td>\n",
       "    </tr>\n",
       "    <tr>\n",
       "      <th>12032</th>\n",
       "      <td>Queso añejo</td>\n",
       "      <td>NaN</td>\n",
       "      <td>0</td>\n",
       "      <td>0</td>\n",
       "      <td>0.0</td>\n",
       "      <td>55</td>\n",
       "      <td>0.0</td>\n",
       "      <td>0.0</td>\n",
       "      <td>RUTA: SAN MARCOS</td>\n",
       "      <td>LUNES</td>\n",
       "      <td>4 AGOSTO</td>\n",
       "      <td>2018</td>\n",
       "    </tr>\n",
       "    <tr>\n",
       "      <th>12033</th>\n",
       "      <td>Queso panela</td>\n",
       "      <td>NaN</td>\n",
       "      <td>0</td>\n",
       "      <td>0</td>\n",
       "      <td>0.0</td>\n",
       "      <td>50</td>\n",
       "      <td>0.0</td>\n",
       "      <td>0.0</td>\n",
       "      <td>RUTA: SAN MARCOS</td>\n",
       "      <td>LUNES</td>\n",
       "      <td>4 AGOSTO</td>\n",
       "      <td>2018</td>\n",
       "    </tr>\n",
       "  </tbody>\n",
       "</table>\n",
       "</div>"
      ],
      "text/plain": [
       "           PRODUCTO CARGA EXISTENCIA DEVOLUCION  VENTA TOTAL PRECIO * PRODUC  \\\n",
       "12029    PRODUCTO10   NaN        NaN          0          0.0             7.5   \n",
       "12030   Queso Hebra   NaN        NaN          0          0.0              60   \n",
       "12031  Queso fresco   NaN          0          0          0.0              12   \n",
       "12032   Queso añejo   NaN          0          0          0.0              55   \n",
       "12033  Queso panela   NaN          0          0          0.0              50   \n",
       "\n",
       "         $  VENTA EN LT              RUTA    DIA    SEMANA  ANIO  \n",
       "12029  0.0          0.0  RUTA: SAN MARCOS  LUNES  4 AGOSTO  2018  \n",
       "12030  0.0          0.0  RUTA: SAN MARCOS  LUNES  4 AGOSTO  2018  \n",
       "12031  0.0          0.0  RUTA: SAN MARCOS  LUNES  4 AGOSTO  2018  \n",
       "12032  0.0          0.0  RUTA: SAN MARCOS  LUNES  4 AGOSTO  2018  \n",
       "12033  0.0          0.0  RUTA: SAN MARCOS  LUNES  4 AGOSTO  2018  "
      ]
     },
     "execution_count": 137,
     "metadata": {},
     "output_type": "execute_result"
    }
   ],
   "source": [
    "productos.head()"
   ]
  },
  {
   "cell_type": "code",
   "execution_count": 138,
   "metadata": {},
   "outputs": [
    {
     "data": {
      "text/html": [
       "<div>\n",
       "<style scoped>\n",
       "    .dataframe tbody tr th:only-of-type {\n",
       "        vertical-align: middle;\n",
       "    }\n",
       "\n",
       "    .dataframe tbody tr th {\n",
       "        vertical-align: top;\n",
       "    }\n",
       "\n",
       "    .dataframe thead th {\n",
       "        text-align: right;\n",
       "    }\n",
       "</style>\n",
       "<table border=\"1\" class=\"dataframe\">\n",
       "  <thead>\n",
       "    <tr style=\"text-align: right;\">\n",
       "      <th></th>\n",
       "      <th>M</th>\n",
       "      <th>T</th>\n",
       "      <th>M.1</th>\n",
       "      <th>T.1</th>\n",
       "      <th>M.2</th>\n",
       "      <th>T.2</th>\n",
       "      <th>M.3</th>\n",
       "      <th>T.3</th>\n",
       "      <th>M.4</th>\n",
       "      <th>M.5</th>\n",
       "      <th>...</th>\n",
       "      <th>T.8</th>\n",
       "      <th>M.10</th>\n",
       "      <th>M.11</th>\n",
       "      <th>T.9</th>\n",
       "      <th>M.12</th>\n",
       "      <th>T.10</th>\n",
       "      <th>M.13</th>\n",
       "      <th>T.11</th>\n",
       "      <th>SUMA</th>\n",
       "      <th>NUM_DIA</th>\n",
       "    </tr>\n",
       "  </thead>\n",
       "  <tbody>\n",
       "    <tr>\n",
       "      <th>0</th>\n",
       "      <td>36.0</td>\n",
       "      <td>0.0</td>\n",
       "      <td>17.0</td>\n",
       "      <td>42.0</td>\n",
       "      <td>50.5</td>\n",
       "      <td>30.0</td>\n",
       "      <td>14.0</td>\n",
       "      <td>16.0</td>\n",
       "      <td>10.0</td>\n",
       "      <td>16.0</td>\n",
       "      <td>...</td>\n",
       "      <td>0.0</td>\n",
       "      <td>0.0</td>\n",
       "      <td>0.0</td>\n",
       "      <td>0.0</td>\n",
       "      <td>0.0</td>\n",
       "      <td>0.0</td>\n",
       "      <td>0.0</td>\n",
       "      <td>0.0</td>\n",
       "      <td>1492.0</td>\n",
       "      <td>0</td>\n",
       "    </tr>\n",
       "    <tr>\n",
       "      <th>1</th>\n",
       "      <td>40.0</td>\n",
       "      <td>0.0</td>\n",
       "      <td>16.0</td>\n",
       "      <td>44.0</td>\n",
       "      <td>50.0</td>\n",
       "      <td>24.5</td>\n",
       "      <td>14.0</td>\n",
       "      <td>16.0</td>\n",
       "      <td>16.0</td>\n",
       "      <td>136.0</td>\n",
       "      <td>...</td>\n",
       "      <td>0.0</td>\n",
       "      <td>0.0</td>\n",
       "      <td>0.0</td>\n",
       "      <td>0.0</td>\n",
       "      <td>0.0</td>\n",
       "      <td>0.0</td>\n",
       "      <td>0.0</td>\n",
       "      <td>0.0</td>\n",
       "      <td>1533.0</td>\n",
       "      <td>1</td>\n",
       "    </tr>\n",
       "    <tr>\n",
       "      <th>2</th>\n",
       "      <td>36.0</td>\n",
       "      <td>0.0</td>\n",
       "      <td>15.0</td>\n",
       "      <td>37.5</td>\n",
       "      <td>53.5</td>\n",
       "      <td>31.5</td>\n",
       "      <td>14.0</td>\n",
       "      <td>21.0</td>\n",
       "      <td>10.0</td>\n",
       "      <td>16.0</td>\n",
       "      <td>...</td>\n",
       "      <td>0.0</td>\n",
       "      <td>0.0</td>\n",
       "      <td>0.0</td>\n",
       "      <td>0.0</td>\n",
       "      <td>0.0</td>\n",
       "      <td>0.0</td>\n",
       "      <td>0.0</td>\n",
       "      <td>0.0</td>\n",
       "      <td>1605.0</td>\n",
       "      <td>2</td>\n",
       "    </tr>\n",
       "    <tr>\n",
       "      <th>3</th>\n",
       "      <td>32.0</td>\n",
       "      <td>0.0</td>\n",
       "      <td>15.0</td>\n",
       "      <td>35.0</td>\n",
       "      <td>49.0</td>\n",
       "      <td>31.0</td>\n",
       "      <td>14.0</td>\n",
       "      <td>16.0</td>\n",
       "      <td>6.0</td>\n",
       "      <td>16.0</td>\n",
       "      <td>...</td>\n",
       "      <td>0.0</td>\n",
       "      <td>0.0</td>\n",
       "      <td>0.0</td>\n",
       "      <td>0.0</td>\n",
       "      <td>0.0</td>\n",
       "      <td>0.0</td>\n",
       "      <td>0.0</td>\n",
       "      <td>0.0</td>\n",
       "      <td>1587.0</td>\n",
       "      <td>3</td>\n",
       "    </tr>\n",
       "    <tr>\n",
       "      <th>4</th>\n",
       "      <td>35.5</td>\n",
       "      <td>0.0</td>\n",
       "      <td>14.0</td>\n",
       "      <td>40.0</td>\n",
       "      <td>56.0</td>\n",
       "      <td>33.0</td>\n",
       "      <td>13.0</td>\n",
       "      <td>16.0</td>\n",
       "      <td>6.0</td>\n",
       "      <td>16.0</td>\n",
       "      <td>...</td>\n",
       "      <td>0.0</td>\n",
       "      <td>0.0</td>\n",
       "      <td>0.0</td>\n",
       "      <td>0.0</td>\n",
       "      <td>0.0</td>\n",
       "      <td>0.0</td>\n",
       "      <td>0.0</td>\n",
       "      <td>0.0</td>\n",
       "      <td>1520.0</td>\n",
       "      <td>4</td>\n",
       "    </tr>\n",
       "  </tbody>\n",
       "</table>\n",
       "<p>5 rows × 28 columns</p>\n",
       "</div>"
      ],
      "text/plain": [
       "      M    T   M.1   T.1   M.2   T.2   M.3   T.3   M.4    M.5   ...     T.8  \\\n",
       "0  36.0  0.0  17.0  42.0  50.5  30.0  14.0  16.0  10.0   16.0   ...     0.0   \n",
       "1  40.0  0.0  16.0  44.0  50.0  24.5  14.0  16.0  16.0  136.0   ...     0.0   \n",
       "2  36.0  0.0  15.0  37.5  53.5  31.5  14.0  21.0  10.0   16.0   ...     0.0   \n",
       "3  32.0  0.0  15.0  35.0  49.0  31.0  14.0  16.0   6.0   16.0   ...     0.0   \n",
       "4  35.5  0.0  14.0  40.0  56.0  33.0  13.0  16.0   6.0   16.0   ...     0.0   \n",
       "\n",
       "   M.10  M.11  T.9  M.12  T.10  M.13  T.11    SUMA  NUM_DIA  \n",
       "0   0.0   0.0  0.0   0.0   0.0   0.0   0.0  1492.0        0  \n",
       "1   0.0   0.0  0.0   0.0   0.0   0.0   0.0  1533.0        1  \n",
       "2   0.0   0.0  0.0   0.0   0.0   0.0   0.0  1605.0        2  \n",
       "3   0.0   0.0  0.0   0.0   0.0   0.0   0.0  1587.0        3  \n",
       "4   0.0   0.0  0.0   0.0   0.0   0.0   0.0  1520.0        4  \n",
       "\n",
       "[5 rows x 28 columns]"
      ]
     },
     "execution_count": 138,
     "metadata": {},
     "output_type": "execute_result"
    }
   ],
   "source": [
    "materia.head()"
   ]
  },
  {
   "cell_type": "code",
   "execution_count": 139,
   "metadata": {},
   "outputs": [],
   "source": [
    "#Comparar el total de materia prima que “entra” al inicio de cada año, contra la que “sale”\n",
    "#en forma de producto vendido por semana para todo el año (en el periodo de datos\n",
    "#disponibles)\n",
    "\n",
    "total_entrada = materia['SUMA'].sum()\n",
    "total_salida = productos['VENTA TOTAL'].sum()\n",
    "ratio = total_salida / total_entrada"
   ]
  },
  {
   "cell_type": "code",
   "execution_count": 140,
   "metadata": {},
   "outputs": [
    {
     "data": {
      "text/plain": [
       "1134560.7"
      ]
     },
     "execution_count": 140,
     "metadata": {},
     "output_type": "execute_result"
    }
   ],
   "source": [
    "total_entrada"
   ]
  },
  {
   "cell_type": "code",
   "execution_count": 141,
   "metadata": {},
   "outputs": [
    {
     "data": {
      "text/plain": [
       "126815.2"
      ]
     },
     "execution_count": 141,
     "metadata": {},
     "output_type": "execute_result"
    }
   ],
   "source": [
    "total_salida"
   ]
  },
  {
   "cell_type": "code",
   "execution_count": 142,
   "metadata": {},
   "outputs": [
    {
     "data": {
      "text/plain": [
       "0.11177471597597202"
      ]
     },
     "execution_count": 142,
     "metadata": {},
     "output_type": "execute_result"
    }
   ],
   "source": [
    "ratio"
   ]
  },
  {
   "cell_type": "code",
   "execution_count": 143,
   "metadata": {},
   "outputs": [
    {
     "data": {
      "image/png": "[encoded data removed]",
      "text/plain": [
       "<Figure size 1080x576 with 1 Axes>"
      ]
     },
     "metadata": {
      "needs_background": "light"
     },
     "output_type": "display_data"
    }
   ],
   "source": [
    "# Cómo varía cada una de estas cantidades por días, semanas y meses.\n",
    "\n",
    "# SOLO DIAS\n",
    "\n",
    "dias = ['LUNES', 'MARTES', 'MIERCOLES', 'JUEVES', 'VIERNES', 'SABADO']\n",
    "ventas = []\n",
    "for dia in dias:\n",
    "    ventas_count = pd.to_numeric(productos.loc[productos['DIA'] == dia]['VENTA TOTAL'], errors = 'coerce').sum()\n",
    "    ventas.append(ventas_count)\n",
    "plt.bar(dias, ventas)\n",
    "plt.title('Ventas Totales por Dia en 2018')\n",
    "plt.ylabel('VENTAS TOTALES')\n",
    "plt.show()"
   ]
  },
  {
   "cell_type": "code",
   "execution_count": 144,
   "metadata": {},
   "outputs": [],
   "source": [
    "folder_name = \"./data_4/\"\n",
    "\n",
    "data_path = os.path.join(folder_name,'*csv')\n",
    "\n",
    "files = glob.glob(data_path)\n",
    "files\n",
    "\n",
    "file = files[0]\n",
    "materia_prima = pd.read_csv(file)\n",
    "materia_prima = materia_prima.fillna(0)\n",
    "materia_prima=materia_prima[materia_prima.DIA != 'DIA']\n",
    "materia_prima.head()\n",
    "\n",
    "materia_dias = list(materia_prima.iloc[:,0])\n",
    "\n",
    "for i in range(len(materia_dias)):\n",
    "    if materia_dias[i] == 'S':\n",
    "        materia_dias[i] = 'SABADO'\n",
    "    if materia_dias[i] == 'D':\n",
    "        materia_dias[i] = 'DOMINGO'\n",
    "    if materia_dias[i] == 'L':\n",
    "        materia_dias[i] = 'LUNES'\n",
    "    if materia_dias[i] == 'M':\n",
    "        if materia_dias[i - 1] == 'LUNES':\n",
    "            materia_dias[i] = 'MARTES'\n",
    "        else:\n",
    "            materia_dias[i] = 'MIERCOLES'\n",
    "    if materia_dias[i] == 'J':\n",
    "        materia_dias[i] = 'JUEVES'\n",
    "    if materia_dias[i] == 'V':\n",
    "        materia_dias[i] = 'VIERNES'\n",
    "        \n",
    "\n",
    "materia['DIA'] = materia_dias"
   ]
  },
  {
   "cell_type": "code",
   "execution_count": 145,
   "metadata": {},
   "outputs": [
    {
     "data": {
      "image/png": "[encoded data removed]",
      "text/plain": [
       "<Figure size 1080x576 with 1 Axes>"
      ]
     },
     "metadata": {
      "needs_background": "light"
     },
     "output_type": "display_data"
    }
   ],
   "source": [
    "dias = ['LUNES', 'MARTES', 'MIERCOLES', 'JUEVES', 'VIERNES', 'SABADO']\n",
    "materia_entrante = []\n",
    "for dia in dias:\n",
    "    materia_entrante_count = materia.loc[materia['DIA'] == dia]['SUMA'].sum()\n",
    "    materia_entrante.append(materia_entrante_count)\n",
    "plt.bar(dias, materia_entrante)\n",
    "plt.title('Materia Prima Entrante por Dia en 2018')\n",
    "plt.ylabel('MATERIA PRIMA')\n",
    "plt.show()"
   ]
  },
  {
   "cell_type": "code",
   "execution_count": 146,
   "metadata": {},
   "outputs": [
    {
     "data": {
      "image/png": "[encoded data removed]",
      "text/plain": [
       "<Figure size 1080x576 with 1 Axes>"
      ]
     },
     "metadata": {
      "needs_background": "light"
     },
     "output_type": "display_data"
    }
   ],
   "source": [
    "ratio_por_dia = [ventas[i]/ materia_entrante[i] for i in range(len(ventas))]\n",
    "ratio_por_dia\n",
    "plt.bar(dias, ratio_por_dia)\n",
    "plt.title('Cociente de Ventas y Materia Prima por Dia en 2018')\n",
    "plt.ylabel('Cociente')\n",
    "plt.show()"
   ]
  },
  {
   "cell_type": "code",
   "execution_count": 147,
   "metadata": {},
   "outputs": [
    {
     "data": {
      "image/png": "[encoded data removed]",
      "text/plain": [
       "<Figure size 1080x576 with 1 Axes>"
      ]
     },
     "metadata": {
      "needs_background": "light"
     },
     "output_type": "display_data"
    }
   ],
   "source": [
    "# Finalmente, generar un modelo de predicción que permita proyectar la venta total de\n",
    "# productos para las semanas finales de 2018, tomando en cuenta los gastos de producción.\n",
    "\n",
    "productos = pd.read_pickle('productos_limpia')\n",
    "\n",
    "anios = ['2012', '2013', '2014', '2015', '2016', '2017', '2018']\n",
    "count_anios = []\n",
    "for anio in anios:\n",
    "    filter_aux = productos.loc[productos['ANIO'] == anio]\n",
    "    count = pd.to_numeric(filter_aux['VENTA TOTAL'], errors = 'coerce').sum()\n",
    "    count_anios.append(count)\n",
    "\n",
    "plt.bar(anios, count_anios)\n",
    "plt.xticks(rotation=90)\n",
    "plt.title('Variacion de VENTA TOTAL en Anios')\n",
    "plt.ylabel('VENTA TOTAL')\n",
    "plt.show()"
   ]
  },
  {
   "cell_type": "code",
   "execution_count": 148,
   "metadata": {},
   "outputs": [
    {
     "data": {
      "text/html": [
       "<div>\n",
       "<style scoped>\n",
       "    .dataframe tbody tr th:only-of-type {\n",
       "        vertical-align: middle;\n",
       "    }\n",
       "\n",
       "    .dataframe tbody tr th {\n",
       "        vertical-align: top;\n",
       "    }\n",
       "\n",
       "    .dataframe thead th {\n",
       "        text-align: right;\n",
       "    }\n",
       "</style>\n",
       "<table border=\"1\" class=\"dataframe\">\n",
       "  <thead>\n",
       "    <tr style=\"text-align: right;\">\n",
       "      <th></th>\n",
       "      <th>PRODUCTO</th>\n",
       "      <th>CARGA</th>\n",
       "      <th>EXISTENCIA</th>\n",
       "      <th>DEVOLUCION</th>\n",
       "      <th>VENTA TOTAL</th>\n",
       "      <th>PRECIO * PRODUC</th>\n",
       "      <th>$</th>\n",
       "      <th>VENTA EN LT</th>\n",
       "      <th>RUTA</th>\n",
       "      <th>DIA</th>\n",
       "      <th>SEMANA</th>\n",
       "      <th>ANIO</th>\n",
       "      <th>MES</th>\n",
       "    </tr>\n",
       "  </thead>\n",
       "  <tbody>\n",
       "    <tr>\n",
       "      <th>0</th>\n",
       "      <td>PRODUCTO10</td>\n",
       "      <td>NaN</td>\n",
       "      <td>NaN</td>\n",
       "      <td>0</td>\n",
       "      <td>0.0</td>\n",
       "      <td>7.5</td>\n",
       "      <td>0.0</td>\n",
       "      <td>0.0</td>\n",
       "      <td>RUTA: SAN MARCOS</td>\n",
       "      <td>LUNES</td>\n",
       "      <td>4 AGOSTO</td>\n",
       "      <td>2017</td>\n",
       "      <td>AGOSTO</td>\n",
       "    </tr>\n",
       "    <tr>\n",
       "      <th>1</th>\n",
       "      <td>Queso Hebra</td>\n",
       "      <td>NaN</td>\n",
       "      <td>NaN</td>\n",
       "      <td>0</td>\n",
       "      <td>0.0</td>\n",
       "      <td>60</td>\n",
       "      <td>0.0</td>\n",
       "      <td>0.0</td>\n",
       "      <td>RUTA: SAN MARCOS</td>\n",
       "      <td>LUNES</td>\n",
       "      <td>4 AGOSTO</td>\n",
       "      <td>2017</td>\n",
       "      <td>AGOSTO</td>\n",
       "    </tr>\n",
       "    <tr>\n",
       "      <th>2</th>\n",
       "      <td>Queso fresco</td>\n",
       "      <td>NaN</td>\n",
       "      <td>0</td>\n",
       "      <td>0</td>\n",
       "      <td>0.0</td>\n",
       "      <td>12</td>\n",
       "      <td>0.0</td>\n",
       "      <td>0.0</td>\n",
       "      <td>RUTA: SAN MARCOS</td>\n",
       "      <td>LUNES</td>\n",
       "      <td>4 AGOSTO</td>\n",
       "      <td>2017</td>\n",
       "      <td>AGOSTO</td>\n",
       "    </tr>\n",
       "    <tr>\n",
       "      <th>3</th>\n",
       "      <td>Queso añejo</td>\n",
       "      <td>NaN</td>\n",
       "      <td>0</td>\n",
       "      <td>0</td>\n",
       "      <td>0.0</td>\n",
       "      <td>55</td>\n",
       "      <td>0.0</td>\n",
       "      <td>0.0</td>\n",
       "      <td>RUTA: SAN MARCOS</td>\n",
       "      <td>LUNES</td>\n",
       "      <td>4 AGOSTO</td>\n",
       "      <td>2017</td>\n",
       "      <td>AGOSTO</td>\n",
       "    </tr>\n",
       "    <tr>\n",
       "      <th>4</th>\n",
       "      <td>Queso panela</td>\n",
       "      <td>NaN</td>\n",
       "      <td>0</td>\n",
       "      <td>0</td>\n",
       "      <td>0.0</td>\n",
       "      <td>50</td>\n",
       "      <td>0.0</td>\n",
       "      <td>0.0</td>\n",
       "      <td>RUTA: SAN MARCOS</td>\n",
       "      <td>LUNES</td>\n",
       "      <td>4 AGOSTO</td>\n",
       "      <td>2017</td>\n",
       "      <td>AGOSTO</td>\n",
       "    </tr>\n",
       "  </tbody>\n",
       "</table>\n",
       "</div>"
      ],
      "text/plain": [
       "       PRODUCTO CARGA EXISTENCIA DEVOLUCION  VENTA TOTAL PRECIO * PRODUC    $  \\\n",
       "0    PRODUCTO10   NaN        NaN          0          0.0             7.5  0.0   \n",
       "1   Queso Hebra   NaN        NaN          0          0.0              60  0.0   \n",
       "2  Queso fresco   NaN          0          0          0.0              12  0.0   \n",
       "3   Queso añejo   NaN          0          0          0.0              55  0.0   \n",
       "4  Queso panela   NaN          0          0          0.0              50  0.0   \n",
       "\n",
       "   VENTA EN LT              RUTA    DIA    SEMANA  ANIO     MES  \n",
       "0          0.0  RUTA: SAN MARCOS  LUNES  4 AGOSTO  2017  AGOSTO  \n",
       "1          0.0  RUTA: SAN MARCOS  LUNES  4 AGOSTO  2017  AGOSTO  \n",
       "2          0.0  RUTA: SAN MARCOS  LUNES  4 AGOSTO  2017  AGOSTO  \n",
       "3          0.0  RUTA: SAN MARCOS  LUNES  4 AGOSTO  2017  AGOSTO  \n",
       "4          0.0  RUTA: SAN MARCOS  LUNES  4 AGOSTO  2017  AGOSTO  "
      ]
     },
     "execution_count": 148,
     "metadata": {},
     "output_type": "execute_result"
    }
   ],
   "source": [
    "productos = pd.read_pickle('productos_limpia')\n",
    "productos = productos.loc[productos['SEMANA'].str.contains('1 ENERO')|\n",
    "\t\t\t\t\t\t\tproductos['SEMANA'].str.contains('2 ENERO')|\n",
    "\t\t\t\t\t\t\tproductos['SEMANA'].str.contains('3 ENERO')|\n",
    "\t\t\t\t\t\t\tproductos['SEMANA'].str.contains('4 ENERO')|\n",
    "\t\t\t\t\t\t\tproductos['SEMANA'].str.contains('1 FEBRERO')|\n",
    "\t\t\t\t\t\t\tproductos['SEMANA'].str.contains('2 FEBRERO')|\n",
    "\t\t\t\t\t\t\tproductos['SEMANA'].str.contains('3 FEBRERO')|\n",
    "\t\t\t\t\t\t\tproductos['SEMANA'].str.contains('4 FEBRERO')|\n",
    "\t\t\t\t\t\t\tproductos['SEMANA'].str.contains('1 MARZO')|\n",
    "\t\t\t\t\t\t\tproductos['SEMANA'].str.contains('2 MARZO')|\n",
    "\t\t\t\t\t\t\tproductos['SEMANA'].str.contains('3 MARZO')|\n",
    "\t\t\t\t\t\t\tproductos['SEMANA'].str.contains('4 MARZO')|\n",
    "\t\t\t\t\t\t\tproductos['SEMANA'].str.contains('1 ABRIL')|\n",
    "\t\t\t\t\t\t\tproductos['SEMANA'].str.contains('2 ABRIL')|\n",
    "\t\t\t\t\t\t\tproductos['SEMANA'].str.contains('3 ABRIL')|\n",
    "\t\t\t\t\t\t\tproductos['SEMANA'].str.contains('4 ABRIL')|\n",
    "\t\t\t\t\t\t\tproductos['SEMANA'].str.contains('1 MAYO')|\n",
    "\t\t\t\t\t\t\tproductos['SEMANA'].str.contains('2 MAYO')|\n",
    "\t\t\t\t\t\t\tproductos['SEMANA'].str.contains('3 MAYO')|\n",
    "\t\t\t\t\t\t\tproductos['SEMANA'].str.contains('4 MAYO')|\n",
    "\t\t\t\t\t\t\tproductos['SEMANA'].str.contains('1 JUNIO')|\n",
    "\t\t\t\t\t\t\tproductos['SEMANA'].str.contains('2 JUNIO')|\n",
    "\t\t\t\t\t\t\tproductos['SEMANA'].str.contains('3 JUNIO')|\n",
    "\t\t\t\t\t\t\tproductos['SEMANA'].str.contains('4 JUNIO')|\n",
    "\t\t\t\t\t\t\tproductos['SEMANA'].str.contains('1 JULIO')|\n",
    "\t\t\t\t\t\t\tproductos['SEMANA'].str.contains('2 JULIO')|\n",
    "\t\t\t\t\t\t\tproductos['SEMANA'].str.contains('3 JULIO')|\n",
    "\t\t\t\t\t\t\tproductos['SEMANA'].str.contains('4 JULIO')|\n",
    "\t\t\t\t\t\t\tproductos['SEMANA'].str.contains('1 AGOSTO')|\n",
    "\t\t\t\t\t\t\tproductos['SEMANA'].str.contains('2 AGOSTO')|\n",
    "\t\t\t\t\t\t\tproductos['SEMANA'].str.contains('3 AGOSTO')|\n",
    "\t\t\t\t\t\t\tproductos['SEMANA'].str.contains('4 AGOSTO')|\n",
    "\t\t\t\t\t\t\tproductos['SEMANA'].str.contains('1 SEPTIEMBRE')|\n",
    "\t\t\t\t\t\t\tproductos['SEMANA'].str.contains('2 SEPTIEMBRE')|\n",
    "\t\t\t\t\t\t\tproductos['SEMANA'].str.contains('3 SEPTIEMBRE')|\n",
    "\t\t\t\t\t\t\tproductos['SEMANA'].str.contains('4 SEPTIEMBRE')|\n",
    "\t\t\t\t\t\t\tproductos['SEMANA'].str.contains('1 OCTUBRE')|\n",
    "\t\t\t\t\t\t\tproductos['SEMANA'].str.contains('2 OCTUBRE')|\n",
    "\t\t\t\t\t\t\tproductos['SEMANA'].str.contains('3 OCTUBRE')|\n",
    "\t\t\t\t\t\t\tproductos['SEMANA'].str.contains('4 OCTUBRE')|\n",
    "\t\t\t\t\t\t\tproductos['SEMANA'].str.contains('1 NOVIEMBRE')|\n",
    "\t\t\t\t\t\t\tproductos['SEMANA'].str.contains('2 NOVIEMBRE')|\n",
    "\t\t\t\t\t\t\tproductos['SEMANA'].str.contains('3 NOVIEMBRE')|\n",
    "\t\t\t\t\t\t\tproductos['SEMANA'].str.contains('4 NOVIEMBRE')|\n",
    "\t\t\t\t\t\t\tproductos['SEMANA'].str.contains('1 DICIEMBRE')|\n",
    "\t\t\t\t\t\t\tproductos['SEMANA'].str.contains('2 DICIEMBRE')|\n",
    "\t\t\t\t\t\t\tproductos['SEMANA'].str.contains('3 DICIEMBRE')|\n",
    "\t\t\t\t\t\t\tproductos['SEMANA'].str.contains('4 DICIEMBRE')]\n",
    "productos['SEMANA'].index = productos['SEMANA'].index.map(str)\n",
    "semanas_list = productos['SEMANA']\n",
    "dims = productos.shape\n",
    "meses = []\n",
    "for i in range(dims[0]):\n",
    "    if 'ENERO' in str(semanas_list[i]):\n",
    "        mes_aux = 'ENERO'\n",
    "        meses.append(mes_aux)\n",
    "    if 'FEBRERO' in str(semanas_list[i]):\n",
    "        mes_aux = 'FEBRERO'\n",
    "        meses.append(mes_aux)\n",
    "    if 'MARZO' in str(semanas_list[i]):\n",
    "        mes_aux = 'MARZO'\n",
    "        meses.append(mes_aux)\n",
    "    if 'ABRIL' in str(semanas_list[i]):\n",
    "        mes_aux = 'ABRIL'\n",
    "        meses.append(mes_aux)\n",
    "    if 'MAYO' in str(semanas_list[i]):\n",
    "        mes_aux = 'MAYO'\n",
    "        meses.append(mes_aux)\n",
    "    if 'JUNIO' in str(semanas_list[i]):\n",
    "        mes_aux = 'JUNIO'\n",
    "        meses.append(mes_aux)\n",
    "    if 'JULIO' in str(semanas_list[i]):\n",
    "        mes_aux = 'JULIO'\n",
    "        meses.append(mes_aux)\n",
    "    if 'AGOSTO' in str(semanas_list[i]):\n",
    "        mes_aux = 'AGOSTO'\n",
    "        meses.append(mes_aux)\n",
    "    if 'SEPTIEMBRE' in str(semanas_list[i]):\n",
    "        mes_aux = 'SEPTIEMBRE'\n",
    "        meses.append(mes_aux)\n",
    "    if 'OCTUBRE' in str(semanas_list[i]):\n",
    "        mes_aux = 'OCTUBRE' \n",
    "        meses.append(mes_aux)\n",
    "    if 'NOVIEMBRE' in str(semanas_list[i]):\n",
    "        mes_aux = 'NOVIEMBRE'\n",
    "        meses.append(mes_aux)\n",
    "    if 'DICIEMBRE' in str(semanas_list[i]):\n",
    "        mes_aux = 'DICIEMBRE'\n",
    "        meses.append(mes_aux)\n",
    "productos['MES'] = meses\n",
    "productos.head()"
   ]
  },
  {
   "cell_type": "code",
   "execution_count": 149,
   "metadata": {},
   "outputs": [],
   "source": [
    "anios = ['2012', '2013', '2014', '2015', '2016', '2017']\n",
    "ventas_comparables = []\n",
    "for anio in anios:\n",
    "    filter_aux = productos.loc[productos['ANIO'] == anio]\n",
    "    filter_aux = filter_aux.loc[filter_aux['MES'] != 'NOVIEMBRE']\n",
    "    filter_aux = filter_aux.loc[filter_aux['MES'] != 'DICIEMBRE']\n",
    "    count = pd.to_numeric(filter_aux['VENTA TOTAL'], errors = 'coerce').sum()\n",
    "    ventas_comparables.append(count)\n",
    "\n",
    "#plt.bar(anios, ventas_comparables)\n",
    "#plt.xticks(rotation=90)\n",
    "#plt.title('VENTA TOTAL Antes de Octubre en Anios')\n",
    "#plt.ylabel('VENTA TOTAL')\n",
    "#plt.show()"
   ]
  },
  {
   "cell_type": "code",
   "execution_count": 154,
   "metadata": {},
   "outputs": [],
   "source": [
    "ventas_totales = count_anios[0:len(count_anios) - 1]\n",
    "ventas_parciales = ventas_comparables\n",
    "ratio = [ventas_parciales[i]/ ventas_totales[i] for i in range(len(ventas_parciales))]"
   ]
  },
  {
   "cell_type": "code",
   "execution_count": 153,
   "metadata": {},
   "outputs": [
    {
     "data": {
      "image/png": "[encoded data removed]",
      "text/plain": [
       "<Figure size 1080x576 with 1 Axes>"
      ]
     },
     "metadata": {
      "needs_background": "light"
     },
     "output_type": "display_data"
    }
   ],
   "source": [
    "plt.bar(anios, ratio)\n",
    "plt.xticks(rotation=90)\n",
    "plt.title('Ventas Antes de Octubre sobre Total de Ventas Anuales en Cada Anio')\n",
    "plt.ylabel('VENTA')\n",
    "plt.show()"
   ]
  },
  {
   "cell_type": "code",
   "execution_count": 180,
   "metadata": {},
   "outputs": [
    {
     "name": "stdout",
     "output_type": "stream",
     "text": [
      "0.6579573758714091\n"
     ]
    }
   ],
   "source": [
    "# Conservadora\n",
    "current = count_anios[-1]\n",
    "average_prop = np.mean(ratio[0:3])\n",
    "print(average_prop)\n",
    "prediction_1 = current / average_prop\n",
    "# Optimista\n",
    "current = count_anios[-1]\n",
    "average_prop = .4\n",
    "prediction_2 = current / average_prop\n"
   ]
  },
  {
   "cell_type": "code",
   "execution_count": 181,
   "metadata": {},
   "outputs": [
    {
     "data": {
      "text/plain": [
       "126815.2"
      ]
     },
     "execution_count": 181,
     "metadata": {},
     "output_type": "execute_result"
    }
   ],
   "source": [
    "current"
   ]
  },
  {
   "cell_type": "code",
   "execution_count": 182,
   "metadata": {},
   "outputs": [
    {
     "data": {
      "text/plain": [
       "192740.7528976234"
      ]
     },
     "execution_count": 182,
     "metadata": {},
     "output_type": "execute_result"
    }
   ],
   "source": [
    "prediction_1"
   ]
  },
  {
   "cell_type": "code",
   "execution_count": 183,
   "metadata": {},
   "outputs": [
    {
     "data": {
      "text/plain": [
       "0.5198552925644828"
      ]
     },
     "execution_count": 183,
     "metadata": {},
     "output_type": "execute_result"
    }
   ],
   "source": [
    "(prediction_1 - current) / current"
   ]
  },
  {
   "cell_type": "code",
   "execution_count": 184,
   "metadata": {},
   "outputs": [
    {
     "data": {
      "text/plain": [
       "317038.0"
      ]
     },
     "execution_count": 184,
     "metadata": {},
     "output_type": "execute_result"
    }
   ],
   "source": [
    "prediction_2"
   ]
  },
  {
   "cell_type": "code",
   "execution_count": 185,
   "metadata": {},
   "outputs": [
    {
     "data": {
      "text/plain": [
       "1.5"
      ]
     },
     "execution_count": 185,
     "metadata": {},
     "output_type": "execute_result"
    }
   ],
   "source": [
    "(prediction_2 - current) / current"
   ]
  }
 ],
 "metadata": {
  "kernelspec": {
   "display_name": "dci",
   "language": "python",
   "name": "dci"
  },
  "language_info": {
   "codemirror_mode": {
    "name": "ipython",
    "version": 2
   },
   "file_extension": ".py",
   "mimetype": "text/x-python",
   "name": "python",
   "nbconvert_exporter": "python",
   "pygments_lexer": "ipython2",
   "version": "2.7.13"
  }
 },
 "nbformat": 4,
 "nbformat_minor": 2
}
