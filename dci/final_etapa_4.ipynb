{
 "cells": [
  {
   "cell_type": "code",
   "execution_count": 2,
   "metadata": {},
   "outputs": [],
   "source": [
    "import pandas as pd\n",
    "import numpy as np\n",
    "import sys\n",
    "import glob\n",
    "import os.path\n",
    "import re"
   ]
  },
  {
   "cell_type": "code",
   "execution_count": 3,
   "metadata": {},
   "outputs": [
    {
     "data": {
      "text/plain": [
       "['./data_4/materiPrimaSemanal2018.csv',\n",
       " './data_4/productosRuta1_2012.csv',\n",
       " './data_4/productosRuta1_2017.csv',\n",
       " './data_4/productosRuta2_2018.csv',\n",
       " './data_4/productosRuta1_2018.csv',\n",
       " './data_4/productosRuta2_2017.csv',\n",
       " './data_4/productosRuta2_2012.csv']"
      ]
     },
     "execution_count": 3,
     "metadata": {},
     "output_type": "execute_result"
    }
   ],
   "source": [
    "folder_name = \"./data_4/\"\n",
    "\n",
    "data_path = os.path.join(folder_name,'*csv')\n",
    "\n",
    "files = glob.glob(data_path)\n",
    "files"
   ]
  },
  {
   "cell_type": "code",
   "execution_count": null,
   "metadata": {},
   "outputs": [],
   "source": [
    "dfs = []\n",
    "for file in files:\n",
    "    df = pd.read_csv(file)\n",
    "    name = file.replace('./data4/v', '')\n",
    "    name = name.replace('.csv', '')\n",
    "    years.append([df, year])\n",
    "    df['Hoja1'].to_pickle(year)"
   ]
  }
 ],
 "metadata": {
  "kernelspec": {
   "display_name": "dci",
   "language": "python",
   "name": "dci"
  },
  "language_info": {
   "codemirror_mode": {
    "name": "ipython",
    "version": 2
   },
   "file_extension": ".py",
   "mimetype": "text/x-python",
   "name": "python",
   "nbconvert_exporter": "python",
   "pygments_lexer": "ipython2",
   "version": "2.7.13"
  }
 },
 "nbformat": 4,
 "nbformat_minor": 2
}
