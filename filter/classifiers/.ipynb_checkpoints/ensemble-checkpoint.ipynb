{
 "cells": [
  {
   "cell_type": "code",
   "execution_count": 79,
   "metadata": {},
   "outputs": [],
   "source": [
    "import pandas as pd\n",
    "from sklearn.ensemble import RandomForestClassifier\n",
    "from sklearn.ensemble import ExtraTreesClassifier\n",
    "from sklearn.ensemble import AdaBoostClassifier\n",
    "from sklearn.ensemble import GradientBoostingClassifier\n",
    "from sklearn.ensemble import VotingClassifier\n",
    "from sklearn.metrics import accuracy_score\n",
    "from sklearn.model_selection import GridSearchCV\n",
    "\n",
    "import warnings; warnings.simplefilter('ignore')"
   ]
  },
  {
   "cell_type": "code",
   "execution_count": 80,
   "metadata": {},
   "outputs": [],
   "source": [
    "# Load data\n",
    "train = pd.read_csv('../data/datosEntrenamiento.csv', header = None)\n",
    "test = pd.read_csv('../data/datosPrueba.csv', header = None)\n",
    "validation = pd.read_csv('../data/datosValidacion.csv', header = None)\n",
    "train=train.rename(columns = {36:'class'})\n",
    "test=test.rename(columns = {36:'class'})\n",
    "train_class_dummies = pd.get_dummies(list(train['class']))\n",
    "train_class_dummies.columns = ['class1','class2','class3','class4','class5','class6']\n",
    "test_class_dummies = pd.get_dummies(list(test['class']))\n",
    "test_class_dummies.columns = ['class1','class2','class3','class4','class5','class6']\n",
    "train = pd.concat([train,train_class_dummies], axis = 1)\n",
    "test = pd.concat([test,test_class_dummies], axis = 1)\n",
    "x_test = test.drop(test.columns[list(range(36,43))], axis = 1).values\n",
    "y_test = test.drop(test.columns[list(range(36))+list(range(37,43))],axis = 1).values\n",
    "x_train = train.drop(train.columns[list(range(36,43))], axis = 1).values\n",
    "y_train = train.drop(test.columns[list(range(36))+list(range(37,43))],axis = 1).values"
   ]
  },
  {
   "cell_type": "code",
   "execution_count": 81,
   "metadata": {},
   "outputs": [
    {
     "name": "stdout",
     "output_type": "stream",
     "text": [
      "0.9168609168609169\n"
     ]
    }
   ],
   "source": [
    "clf = RandomForestClassifier(n_estimators=400)\n",
    "clf = clf.fit(x_train, y_train.ravel())\n",
    "y_pred = clf.predict(x_test)\n",
    "print(accuracy_score(y_test,y_pred))"
   ]
  },
  {
   "cell_type": "code",
   "execution_count": 82,
   "metadata": {},
   "outputs": [
    {
     "name": "stdout",
     "output_type": "stream",
     "text": [
      "0.9176379176379177\n"
     ]
    }
   ],
   "source": [
    "clf = ExtraTreesClassifier(n_estimators=400)\n",
    "clf = clf.fit(x_train, y_train.ravel())\n",
    "y_pred = clf.predict(x_test)\n",
    "print(accuracy_score(y_test,y_pred))"
   ]
  },
  {
   "cell_type": "code",
   "execution_count": 83,
   "metadata": {},
   "outputs": [
    {
     "name": "stdout",
     "output_type": "stream",
     "text": [
      "0.6961926961926962\n"
     ]
    }
   ],
   "source": [
    "clf = AdaBoostClassifier(n_estimators=400)\n",
    "clf = clf.fit(x_train, y_train.ravel())\n",
    "y_pred = clf.predict(x_test)\n",
    "print(accuracy_score(y_test,y_pred))"
   ]
  },
  {
   "cell_type": "code",
   "execution_count": 84,
   "metadata": {},
   "outputs": [
    {
     "name": "stdout",
     "output_type": "stream",
     "text": [
      "0.9168609168609169\n"
     ]
    }
   ],
   "source": [
    "clf = GradientBoostingClassifier(n_estimators=400).fit(x_train, y_train.ravel())\n",
    "y_pred = clf.predict(x_test)\n",
    "print(accuracy_score(y_test,y_pred))"
   ]
  },
  {
   "cell_type": "code",
   "execution_count": 85,
   "metadata": {},
   "outputs": [
    {
     "name": "stdout",
     "output_type": "stream",
     "text": [
      "0.9176379176379177\n"
     ]
    }
   ],
   "source": [
    "clf1 = RandomForestClassifier(n_estimators=400)\n",
    "clf2 = ExtraTreesClassifier(n_estimators=400)\n",
    "clf3 = GradientBoostingClassifier(n_estimators=400)\n",
    "eclf = VotingClassifier(estimators=[('rf', clf1), ('et', clf2), ('gbc', clf3)], voting='hard')\n",
    "eclf.fit(x_train, y_train.ravel())\n",
    "y_pred = eclf.predict(x_test)\n",
    "print(accuracy_score(y_test,y_pred))"
   ]
  },
  {
   "cell_type": "code",
   "execution_count": 86,
   "metadata": {},
   "outputs": [
    {
     "name": "stdout",
     "output_type": "stream",
     "text": [
      "0.9230769230769231\n"
     ]
    }
   ],
   "source": [
    "clf1 = RandomForestClassifier(n_estimators=400)\n",
    "clf2 = ExtraTreesClassifier(n_estimators=400)\n",
    "clf3 = GradientBoostingClassifier(n_estimators=400)\n",
    "eclf = VotingClassifier(estimators=[('rf', clf1), ('et', clf2), ('gbc', clf3)], voting='soft')\n",
    "eclf.fit(x_train, y_train.ravel())\n",
    "y_pred = eclf.predict(x_test)\n",
    "print(accuracy_score(y_test,y_pred))"
   ]
  },
  {
   "cell_type": "code",
   "execution_count": 87,
   "metadata": {},
   "outputs": [
    {
     "name": "stdout",
     "output_type": "stream",
     "text": [
      "0.9254079254079254\n"
     ]
    }
   ],
   "source": [
    "clf1 = RandomForestClassifier(n_estimators=400)\n",
    "clf2 = ExtraTreesClassifier(n_estimators=400)\n",
    "clf3 = GradientBoostingClassifier(n_estimators=400)\n",
    "eclf = VotingClassifier(estimators=[('rf', clf1), ('et', clf2), ('gbc', clf3)], voting='soft', weights=[1,3,2])\n",
    "eclf.fit(x_train, y_train.ravel())\n",
    "y_pred = eclf.predict(x_test)\n",
    "print(accuracy_score(y_test,y_pred))"
   ]
  },
  {
   "cell_type": "code",
   "execution_count": 88,
   "metadata": {},
   "outputs": [
    {
     "name": "stdout",
     "output_type": "stream",
     "text": [
      "0.9246309246309247\n"
     ]
    }
   ],
   "source": [
    "clf1 = RandomForestClassifier(n_estimators=400)\n",
    "clf2 = ExtraTreesClassifier(n_estimators=400)\n",
    "clf3 = GradientBoostingClassifier(n_estimators=400)\n",
    "eclf = VotingClassifier(estimators=[('rf', clf1), ('et', clf2), ('gbc', clf3)], voting='soft', weights=[1,3,2])\n",
    "params = {'rf__n_estimators': [20, 400], 'et__n_estimators': [20, 400], 'gbc__n_estimators': [20, 400]}\n",
    "\n",
    "grid = GridSearchCV(estimator=eclf, param_grid=params, cv=5)\n",
    "grid = grid.fit(x_train, y_train)\n",
    "y_pred = grid.predict(x_test)\n",
    "print(accuracy_score(y_test,y_pred))"
   ]
  }
 ],
 "metadata": {},
 "nbformat": 4,
 "nbformat_minor": 2
}
